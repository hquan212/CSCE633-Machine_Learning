{
 "cells": [
  {
   "cell_type": "markdown",
   "metadata": {},
   "source": [
    "# Decesion Tree Cancer Example"
   ]
  },
  {
   "cell_type": "code",
   "execution_count": 4,
   "metadata": {
    "collapsed": true
   },
   "outputs": [],
   "source": [
    "#!/usr/bin/python\n",
    "import pandas as pd\n",
    "import numpy as np\n",
    "import matplotlib.pyplot as plt\n",
    "import math\n",
    "from sklearn.model_selection import train_test_split"
   ]
  },
  {
   "cell_type": "code",
   "execution_count": null,
   "metadata": {
    "collapsed": true
   },
   "outputs": [],
   "source": [
    "def split_data(dir):\n",
    "    #imports the csv, creates data fram then using scikitlearn\n",
    "    #Splits the data into 2/3 and 1/3 perserving the ratio of the Class feature\n",
    "\n",
    "    data = pd.read_csv(dir, names=[\"Clump\",\"CSize\",\"CShape\",\"Adhesion\",\"Epithelial\"\n",
    "            ,\"Nuclei\",\"Chromatin\",\"Nucleoli\",\"Mitoses\",\"Class\"])\n",
    "    data[\"Class\"] = data[\"Class\"].apply(lambda x: +1 if x==2 else -1)\n",
    "    out = data.pop(\"Class\")\n",
    "    return train_test_split(data, out, test_size =0.35, random_state=0)\n"
   ]
  },
  {
   "cell_type": "markdown",
   "metadata": {},
   "source": [
    "Our training output is now +1 for Benign and -1 for Malignant"
   ]
  },
  {
   "cell_type": "code",
   "execution_count": 192,
   "metadata": {
    "collapsed": true
   },
   "outputs": [],
   "source": [
    "#---------------------Run main function\n",
    "\n",
    "#split the data into their respective arrays\n",
    "# _train datasets are the 2/3 portion and the _test are 1/3. \n",
    "# _test contains the Class attribute and _train contains the other features.\n",
    "# X_train, X_test, Y_train, Y_test = split_data('hw2_question1.csv')\n",
    "X_train, X_test, Y_train, Y_test = split_data('test.csv')"
   ]
  },
  {
   "cell_type": "markdown",
   "metadata": {},
   "source": [
    "Lets get the Columns from the training data so we can calculate the Entropy "
   ]
  },
  {
   "cell_type": "code",
   "execution_count": 193,
   "metadata": {
    "collapsed": true
   },
   "outputs": [],
   "source": [
    "Clump_train = np.array(X_train[\"Clump\"])\n",
    "CSize_train = np.array(X_train[\"CSize\"])\n",
    "CShape_train = np.array(X_train[\"CShape\"])\n",
    "Adhesion_train = np.array(X_train[\"Adhesion\"])\n",
    "Epithelial_train = np.array(X_train[\"Epithelial\"])\n",
    "Nuclei_train = np.array(X_train[\"Nuclei\"])\n",
    "Chromatin_train = np.array(X_train[\"Chromatin\"])\n",
    "Nucleoli_train = np.array(X_train[\"Nucleoli\"])\n",
    "Mitoses_train = np.array(X_train[\"Mitoses\"])"
   ]
  },
  {
   "cell_type": "code",
   "execution_count": 194,
   "metadata": {
    "collapsed": true
   },
   "outputs": [],
   "source": [
    "#lets get every column out of our training set and store then in an array\n",
    "X_train_trans = np.array(X_train.transpose())\n",
    "X_test = np.array(X_test)\n",
    "Y_train = np.array(Y_train)\n",
    "Y_test = np.array(Y_test)\n",
    "X_train_trans = np.transpose(X_train_trans)"
   ]
  },
  {
   "cell_type": "code",
   "execution_count": 141,
   "metadata": {
    "collapsed": true
   },
   "outputs": [],
   "source": [
    "# for i in range(0,len(X_train_trans)):\n",
    "#     if Y_train[i] != 0:\n",
    "#         print i+1, X_train_trans[i], Y_train[i]"
   ]
  },
  {
   "cell_type": "code",
   "execution_count": 157,
   "metadata": {},
   "outputs": [
    {
     "name": "stdout",
     "output_type": "stream",
     "text": [
      "set([1, 2, 3, 4, 5, 6, 7, 8, 9, 10])\n",
      "None\n"
     ]
    }
   ],
   "source": [
    "# for i in range(0,len(Clump_train)):\n",
    "#     print i+1, Clump_train[i], Y_train[i]"
   ]
  },
  {
   "cell_type": "code",
   "execution_count": 199,
   "metadata": {
    "collapsed": true
   },
   "outputs": [],
   "source": [
    "def class_counts(train):\n",
    "    \"\"\"Counts the number of each type of example in a dataset.\"\"\"\n",
    "    counts = {}  # a dictionary of label -> count.\n",
    "    totalentries = len(train)\n",
    "    for i in range(0,totalentries):\n",
    "        # in our dataset format, the label is always the last column\n",
    "        label = train[i]\n",
    "        if label not in counts:\n",
    "            counts[label] = 0\n",
    "        counts[label] += 1\n",
    "        print train[i]\n",
    "    return counts"
   ]
  },
  {
   "cell_type": "code",
   "execution_count": 201,
   "metadata": {},
   "outputs": [
    {
     "name": "stdout",
     "output_type": "stream",
     "text": [
      "1\n",
      "4\n",
      "5\n",
      "2\n",
      "1\n",
      "6\n",
      "5\n",
      "8\n",
      "5\n",
      "{1: 2, 2: 1, 4: 1, 5: 3, 6: 1, 8: 1}\n"
     ]
    },
    {
     "ename": "IndexError",
     "evalue": "only integers, slices (`:`), ellipsis (`...`), numpy.newaxis (`None`) and integer or boolean arrays are valid indices",
     "output_type": "error",
     "traceback": [
      "\u001b[0;31m---------------------------------------------------------------------------\u001b[0m",
      "\u001b[0;31mIndexError\u001b[0m                                Traceback (most recent call last)",
      "\u001b[0;32m<ipython-input-201-396ad1855d54>\u001b[0m in \u001b[0;36m<module>\u001b[0;34m()\u001b[0m\n\u001b[1;32m      1\u001b[0m \u001b[0;32mprint\u001b[0m \u001b[0mclass_counts\u001b[0m\u001b[0;34m(\u001b[0m\u001b[0mClump_train\u001b[0m\u001b[0;34m)\u001b[0m\u001b[0;34m\u001b[0m\u001b[0m\n\u001b[0;32m----> 2\u001b[0;31m \u001b[0;32mprint\u001b[0m \u001b[0mclass_counts\u001b[0m\u001b[0;34m(\u001b[0m\u001b[0mnp\u001b[0m\u001b[0;34m.\u001b[0m\u001b[0marray\u001b[0m\u001b[0;34m(\u001b[0m\u001b[0mX_test\u001b[0m\u001b[0;34m[\u001b[0m\u001b[0;34m\"Clump\"\u001b[0m\u001b[0;34m]\u001b[0m\u001b[0;34m)\u001b[0m\u001b[0;34m)\u001b[0m\u001b[0;34m\u001b[0m\u001b[0m\n\u001b[0m",
      "\u001b[0;31mIndexError\u001b[0m: only integers, slices (`:`), ellipsis (`...`), numpy.newaxis (`None`) and integer or boolean arrays are valid indices"
     ]
    }
   ],
   "source": [
    "print class_counts(Clump_train)\n",
    "print class_counts(np.array(X_test[\"Clump\"]))"
   ]
  },
  {
   "cell_type": "code",
   "execution_count": null,
   "metadata": {
    "collapsed": true
   },
   "outputs": [],
   "source": []
  }
 ],
 "metadata": {
  "kernelspec": {
   "display_name": "Python 2",
   "language": "python",
   "name": "python2"
  },
  "language_info": {
   "codemirror_mode": {
    "name": "ipython",
    "version": 2
   },
   "file_extension": ".py",
   "mimetype": "text/x-python",
   "name": "python",
   "nbconvert_exporter": "python",
   "pygments_lexer": "ipython2",
   "version": "2.7.13"
  }
 },
 "nbformat": 4,
 "nbformat_minor": 2
}
