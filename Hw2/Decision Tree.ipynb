{
 "cells": [
  {
   "cell_type": "markdown",
   "metadata": {},
   "source": [
    "# Decion Trees"
   ]
  },
  {
   "cell_type": "code",
   "execution_count": 1,
   "metadata": {
    "collapsed": true
   },
   "outputs": [],
   "source": [
    "import pandas as pd\n",
    "from sklearn.model_selection import train_test_split\n",
    "import math"
   ]
  },
  {
   "cell_type": "code",
   "execution_count": 2,
   "metadata": {
    "collapsed": true
   },
   "outputs": [],
   "source": [
    "df = pd.read_csv('hw2_question1.csv', header=None)"
   ]
  },
  {
   "cell_type": "code",
   "execution_count": 115,
   "metadata": {
    "collapsed": true
   },
   "outputs": [],
   "source": [
    "out = df[9]\n",
    "del df[9]"
   ]
  },
  {
   "cell_type": "markdown",
   "metadata": {},
   "source": [
    "Lets split the data into 2/3 training and keep the training in 1/3. We choose the random_State=0 to keep the ratio."
   ]
  },
  {
   "cell_type": "code",
   "execution_count": 77,
   "metadata": {
    "collapsed": true
   },
   "outputs": [],
   "source": [
    "X_train, Xtest, Y_train, Ytest = train_test_split(df, out,\n",
    "                                  test_size =0.33, random_state=0)"
   ]
  },
  {
   "cell_type": "code",
   "execution_count": null,
   "metadata": {
    "collapsed": true
   },
   "outputs": [],
   "source": [
    "Now lets define our entropy and gini functions"
   ]
  },
  {
   "cell_type": "code",
   "execution_count": 39,
   "metadata": {
    "collapsed": true
   },
   "outputs": [],
   "source": [
    "def entropy(lef, right):\n",
    "    tot_instances = float(len(lef) + len(right))\n",
    "    score = 0.0\n",
    "    for group in [lef, right]:\n",
    "        size = float(len(group))\n",
    "        if size == 0:\n",
    "            continue\n",
    "        outcome = 0.0\n",
    "        for result in [2,4]:\n",
    "            p = [df[9] for row in group].count(result) / size\n",
    "            outcome += -(p*math.log(p,2))\n",
    "        score += (1-outcome)*(size/tot_instances)\n",
    "    return tot_instances"
   ]
  },
  {
   "cell_type": "code",
   "execution_count": 66,
   "metadata": {
    "collapsed": true
   },
   "outputs": [],
   "source": [
    "def gini(lef, right):\n",
    "    tot_instances = float(len(lef) + len(right))\n",
    "    score = 0.0\n",
    "    for group in [lef, right]:\n",
    "        size = float(len(group))\n",
    "        if size == 0:\n",
    "            continue\n",
    "        outcome = 0.0\n",
    "        for result in [2,4]: \n",
    "            p = [df[9] for row in group].count(result) / size\n",
    "            outcome += p*p\n",
    "        score += (1-outcome)*(size/tot_instances)\n",
    "    print tot_instances"
   ]
  },
  {
   "cell_type": "code",
   "execution_count": 140,
   "metadata": {
    "collapsed": true
   },
   "outputs": [],
   "source": [
    "def get_score(index,df):\n",
    "    i = 0\n",
    "    left = []\n",
    "    right = []\n",
    "    for x in df:\n",
    "        if x <=5:\n",
    "            left.append([x,i])\n",
    "        else:\n",
    "            right.append([x,i])\n",
    "        i += 1\n",
    "        print x\n",
    "    print len(right)\n",
    "    \n",
    "#     return gini(left,right)\n",
    "#     return entropy(left,right)"
   ]
  },
  {
   "cell_type": "markdown",
   "metadata": {
    "collapsed": true
   },
   "source": [
    "I am sorry, I could not complete the code. I contracted the flu which did not let me function properly for three days. Thank you for getting this far. "
   ]
  }
 ],
 "metadata": {
  "kernelspec": {
   "display_name": "Python 2",
   "language": "python",
   "name": "python2"
  },
  "language_info": {
   "codemirror_mode": {
    "name": "ipython",
    "version": 2
   },
   "file_extension": ".py",
   "mimetype": "text/x-python",
   "name": "python",
   "nbconvert_exporter": "python",
   "pygments_lexer": "ipython2",
   "version": "2.7.14"
  }
 },
 "nbformat": 4,
 "nbformat_minor": 2
}
