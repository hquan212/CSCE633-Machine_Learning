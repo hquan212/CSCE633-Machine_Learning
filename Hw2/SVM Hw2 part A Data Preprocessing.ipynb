{
 "cells": [
  {
   "cell_type": "markdown",
   "metadata": {},
   "source": [
    "# Support Vector Machines using data from Phising Websites Data Set"
   ]
  },
  {
   "cell_type": "code",
   "execution_count": 2,
   "metadata": {
    "collapsed": true
   },
   "outputs": [],
   "source": [
    "import pandas as pd\n",
    "from sklearn.model_selection import train_test_split\n",
    "from svmutil import *\n",
    "import matplotlib.pyplot as plt\n",
    "from time import time"
   ]
  },
  {
   "cell_type": "markdown",
   "metadata": {},
   "source": [
    "Import pandas, when reading the csv sometimes we dont have any headers, if we choose the option header=None, now we have a 0:len scale for the columns."
   ]
  },
  {
   "cell_type": "code",
   "execution_count": 3,
   "metadata": {
    "collapsed": true
   },
   "outputs": [],
   "source": [
    "df = pd.read_csv(\"hw2_question3.csv\", header=None)"
   ]
  },
  {
   "cell_type": "markdown",
   "metadata": {},
   "source": [
    "This next function will reorder the data fram by inserting three new columns on a specific list of columns and it will delete the old data frame column."
   ]
  },
  {
   "cell_type": "code",
   "execution_count": 4,
   "metadata": {
    "collapsed": true
   },
   "outputs": [],
   "source": [
    "def reorder(df, index):\n",
    "    df[str(index)+\"a\"] = (df[index] < 0).astype(int)\n",
    "    df[str(index)+\"b\"] = (df[index] == 0).astype(int)\n",
    "    df[str(index)+\"c\"] = (df[index] > 0).astype(int)\n",
    "    del df[index]"
   ]
  },
  {
   "cell_type": "code",
   "execution_count": 5,
   "metadata": {
    "collapsed": true
   },
   "outputs": [],
   "source": [
    "triplets = [1,6,7,13,14,15,25,28]\n",
    "\n",
    "for num in triplets:\n",
    "    reorder(df,num)"
   ]
  },
  {
   "cell_type": "code",
   "execution_count": 6,
   "metadata": {
    "collapsed": true
   },
   "outputs": [],
   "source": [
    "col = df.columns.tolist()"
   ]
  },
  {
   "cell_type": "code",
   "execution_count": 7,
   "metadata": {
    "collapsed": true
   },
   "outputs": [],
   "source": [
    "das = col[:21] + col[23:]"
   ]
  },
  {
   "cell_type": "markdown",
   "metadata": {},
   "source": [
    "Lets reorder the columns so that our target training column in on the last section."
   ]
  },
  {
   "cell_type": "code",
   "execution_count": 8,
   "metadata": {
    "collapsed": true
   },
   "outputs": [],
   "source": [
    "das.append(col[22])"
   ]
  },
  {
   "cell_type": "code",
   "execution_count": 9,
   "metadata": {
    "collapsed": true
   },
   "outputs": [],
   "source": [
    "df = df[das]\n",
    "out = df[col[22]]\n",
    "del df[30]"
   ]
  },
  {
   "cell_type": "markdown",
   "metadata": {},
   "source": [
    "Now lets split the data"
   ]
  },
  {
   "cell_type": "code",
   "execution_count": 10,
   "metadata": {
    "collapsed": true
   },
   "outputs": [],
   "source": [
    " X_train, Xtest, Y_train, Ytest = train_test_split(df, out,\n",
    "                                  test_size =0.33, random_state=0)"
   ]
  },
  {
   "cell_type": "code",
   "execution_count": 11,
   "metadata": {
    "collapsed": true
   },
   "outputs": [],
   "source": [
    "X = X_train.values.tolist()\n",
    "xtest = Xtest.values.tolist()"
   ]
  },
  {
   "cell_type": "code",
   "execution_count": 12,
   "metadata": {
    "collapsed": true
   },
   "outputs": [],
   "source": [
    "Y = Y_train.tolist()\n",
    "ytest = Ytest.tolist()"
   ]
  },
  {
   "cell_type": "markdown",
   "metadata": {},
   "source": [
    "Lets start to train our SVM"
   ]
  },
  {
   "cell_type": "code",
   "execution_count": 13,
   "metadata": {
    "collapsed": true
   },
   "outputs": [],
   "source": [
    "prob = svm_problem(Y, X)"
   ]
  },
  {
   "cell_type": "code",
   "execution_count": 16,
   "metadata": {
    "collapsed": true,
    "scrolled": true
   },
   "outputs": [],
   "source": [
    "c = 1\n",
    "cost = []\n",
    "lin_accuracy = []\n",
    "lin_timed = []\n",
    "\n",
    "for i in range(3):\n",
    "    t0 = time()\n",
    "    a = \"-t 0 -v 3 -c \" + str(c)\n",
    "    param = svm_parameter(a)\n",
    "    m = svm_train(prob, param)\n",
    "    lin_accuracy.append(m)\n",
    "    tp = time()\n",
    "    lin_timed.append(round(tp-t0,3))\n",
    "    print \"Time is: \", round(tp-t0,3)\n",
    "    cost.append(c)\n",
    "    c +=15\n",
    "print lin_timed"
   ]
  },
  {
   "cell_type": "code",
   "execution_count": 69,
   "metadata": {},
   "outputs": [
    {
     "data": {
      "image/png": "[encoded data removed]",
      "text/plain": [
       "<matplotlib.figure.Figure at 0x7f11c2762c10>"
      ]
     },
     "metadata": {},
     "output_type": "display_data"
    }
   ],
   "source": [
    "plt.scatter(cost,lin_accuracy, color='r')\n",
    "plt.plot(cost,lin_accuracy)\n",
    "plt.grid(True)\n",
    "plt.title(\"Linear SVM training with 3 fold validation, Cost vs Accuracy\")\n",
    "plt.xlabel(\"Cost value\")\n",
    "plt.ylabel(\"Accuracy%\")\n",
    "plt.show()"
   ]
  },
  {
   "cell_type": "markdown",
   "metadata": {},
   "source": [
    "The  best value for C that I found using the 3fold cross validation is for C =61"
   ]
  },
  {
   "cell_type": "code",
   "execution_count": 74,
   "metadata": {
    "scrolled": true
   },
   "outputs": [
    {
     "data": {
      "image/png": "[encoded data removed]",
      "text/plain": [
       "<matplotlib.figure.Figure at 0x7f11c28cdc50>"
      ]
     },
     "metadata": {},
     "output_type": "display_data"
    },
    {
     "name": "stdout",
     "output_type": "stream",
     "text": [
      "[2.098, 6.492, 9.803, 11.926, 15.188, 17.187, 20.283, 22.913, 28.455, 35.372]\n"
     ]
    }
   ],
   "source": [
    "plt.plot(cost,lin_timed)\n",
    "plt.scatter(cost,lin_timed, color='g')\n",
    "plt.grid(True)\n",
    "plt.title(\"Linear SVM training with 3 fold validation, Cost vs Time\")\n",
    "plt.xlabel(\"Cost value\")\n",
    "plt.ylabel(\"Time seconds\")\n",
    "plt.show()\n",
    "print lin_timed"
   ]
  },
  {
   "cell_type": "markdown",
   "metadata": {},
   "source": [
    "Now lets try our model on the prediction:"
   ]
  },
  {
   "cell_type": "code",
   "execution_count": 53,
   "metadata": {
    "collapsed": true
   },
   "outputs": [],
   "source": [
    "m = svm_train(prob, '-t 0 -c 61 -n 3')"
   ]
  },
  {
   "cell_type": "code",
   "execution_count": 54,
   "metadata": {},
   "outputs": [
    {
     "name": "stdout",
     "output_type": "stream",
     "text": [
      "Accuracy = 93.2036% (3401/3649) (classification)\n"
     ]
    }
   ],
   "source": [
    "svm_save_model('linear.model',m)\n",
    "m = svm_load_model('linear.model')\n",
    "p_label, p_acc, p_val = svm_predict(ytest, xtest, m)"
   ]
  },
  {
   "cell_type": "markdown",
   "metadata": {},
   "source": [
    "The $\\boldsymbol{Accuracy}$ for the testing set is $\\boldsymbol{93.203\\%}$ when using\n",
    "the 3-fold cross validation on our data set. By using a set value of C to be \n",
    "61, I found that this accuracy for the svm was a good one for prediciting the correct\n",
    "values of the test cases."
   ]
  },
  {
   "cell_type": "markdown",
   "metadata": {},
   "source": [
    "# Kernel SVM in LIBSVM."
   ]
  },
  {
   "cell_type": "markdown",
   "metadata": {},
   "source": [
    "In this section I will experiment with different types of kernels which are the Polynomial kernel and the RBF kernel. I will also be switching the parameters to find the ideal parameters for the data: \n",
    "\n",
    "\n",
    "The first kernel I will try is the polynomial kernel of degree 2."
   ]
  },
  {
   "cell_type": "code",
   "execution_count": 23,
   "metadata": {},
   "outputs": [
    {
     "name": "stdout",
     "output_type": "stream",
     "text": [
      "Cross Validation Accuracy = 94.5855%\n",
      "Cross Validation Accuracy = 95.7737%\n",
      "Cross Validation Accuracy = 95.6117%\n",
      "Cross Validation Accuracy = 95.5442%\n",
      "Cross Validation Accuracy = 95.3956%\n",
      "Cross Validation Accuracy = 95.5982%\n",
      "Cross Validation Accuracy = 95.0716%\n",
      "Cross Validation Accuracy = 95.6252%\n",
      "Cross Validation Accuracy = 95.7602%\n",
      "Cross Validation Accuracy = 95.2336%\n"
     ]
    }
   ],
   "source": [
    "c = 1\n",
    "poly2_accuracy = []\n",
    "poly2_timed = []\n",
    "for i in range(10):\n",
    "    t0 = time()\n",
    "    a = \"-t 1 -v 3 -d 2 -c \" + str(c)\n",
    "    param = svm_parameter(a)\n",
    "    m = svm_train(prob, param)\n",
    "    poly2_accuracy.append(m)\n",
    "    tp = time()\n",
    "    poly2_timed.append(round(tp-t0,3))\n",
    "    c +=25"
   ]
  },
  {
   "cell_type": "markdown",
   "metadata": {},
   "source": [
    "Now I will try training my data with the polynomial kernel of degree 3. "
   ]
  },
  {
   "cell_type": "code",
   "execution_count": 24,
   "metadata": {},
   "outputs": [
    {
     "name": "stdout",
     "output_type": "stream",
     "text": [
      "Cross Validation Accuracy = 94.842%\n",
      "Cross Validation Accuracy = 96.0708%\n",
      "Cross Validation Accuracy = 96.0573%\n",
      "Cross Validation Accuracy = 96.2463%\n",
      "Cross Validation Accuracy = 95.8682%\n",
      "Cross Validation Accuracy = 95.5847%\n",
      "Cross Validation Accuracy = 95.7602%\n",
      "Cross Validation Accuracy = 96.0032%\n",
      "Cross Validation Accuracy = 95.7467%\n",
      "Cross Validation Accuracy = 95.4361%\n"
     ]
    }
   ],
   "source": [
    "c = 1\n",
    "poly3_accuracy = []\n",
    "poly3_timed = []\n",
    "for i in range(10):\n",
    "    t0 = time()\n",
    "    a = \"-t 1 -v 3 -d 3 -c \" + str(c)\n",
    "    param = svm_parameter(a)\n",
    "    m = svm_train(prob, param)\n",
    "    poly3_accuracy.append(m)\n",
    "    tp = time()\n",
    "    poly3_timed.append(round(tp-t0,3))\n",
    "    c +=25"
   ]
  },
  {
   "cell_type": "markdown",
   "metadata": {},
   "source": [
    "This last run is for the Radia Based Function Kernel. \n"
   ]
  },
  {
   "cell_type": "code",
   "execution_count": 25,
   "metadata": {},
   "outputs": [
    {
     "name": "stdout",
     "output_type": "stream",
     "text": [
      "Cross Validation Accuracy = 95.0851%\n",
      "Cross Validation Accuracy = 96.1113%\n",
      "Cross Validation Accuracy = 96.2868%\n",
      "Cross Validation Accuracy = 95.9087%\n",
      "Cross Validation Accuracy = 96.2193%\n",
      "Cross Validation Accuracy = 96.1653%\n",
      "Cross Validation Accuracy = 95.7197%\n",
      "Cross Validation Accuracy = 96.2193%\n",
      "Cross Validation Accuracy = 95.7602%\n",
      "Cross Validation Accuracy = 95.7197%\n"
     ]
    }
   ],
   "source": [
    "c = 1\n",
    "rbf_accuracy = []\n",
    "rbf_timed = []\n",
    "for i in range(10):\n",
    "    t0 = time()\n",
    "    a = \"-t 2 -v 3 -c \" + str(c)\n",
    "    param = svm_parameter(a)\n",
    "    m = svm_train(prob, param)\n",
    "    rbf_accuracy.append(m)\n",
    "    tp = time()\n",
    "    rbf_timed.append(round(tp-t0,3))\n",
    "    c +=25"
   ]
  },
  {
   "cell_type": "markdown",
   "metadata": {
    "collapsed": true
   },
   "source": [
    "It seems to be that the $\\boldsymbol{RBF}$ kernel performs better than the linear or the polynomail functions."
   ]
  }
 ],
 "metadata": {
  "kernelspec": {
   "display_name": "Python 2",
   "language": "python",
   "name": "python2"
  },
  "language_info": {
   "codemirror_mode": {
    "name": "ipython",
    "version": 2
   },
   "file_extension": ".py",
   "mimetype": "text/x-python",
   "name": "python",
   "nbconvert_exporter": "python",
   "pygments_lexer": "ipython2",
   "version": "2.7.13"
  }
 },
 "nbformat": 4,
 "nbformat_minor": 2
}
